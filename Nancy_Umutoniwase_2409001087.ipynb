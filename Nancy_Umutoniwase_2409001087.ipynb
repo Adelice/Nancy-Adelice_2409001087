{
  "nbformat": 4,
  "nbformat_minor": 0,
  "metadata": {
    "colab": {
      "provenance": [],
      "authorship_tag": "ABX9TyPVxvfK7Jq9moL/FZ3n3j3v",
      "include_colab_link": true
    },
    "kernelspec": {
      "name": "python3",
      "display_name": "Python 3"
    },
    "language_info": {
      "name": "python"
    }
  },
  "cells": [
    {
      "cell_type": "markdown",
      "metadata": {
        "id": "view-in-github",
        "colab_type": "text"
      },
      "source": [
        "<a href=\"https://colab.research.google.com/github/Adelice/Nancy-Adelice_2409001087/blob/main/Nancy_Umutoniwase_2409001087.ipynb\" target=\"_parent\"><img src=\"https://colab.research.google.com/assets/colab-badge.svg\" alt=\"Open In Colab\"/></a>"
      ]
    },
    {
      "cell_type": "code",
      "execution_count": null,
      "metadata": {
        "colab": {
          "base_uri": "https://localhost:8080/"
        },
        "id": "OsWbT_iG3Vem",
        "outputId": "449bc62f-2d3f-460a-df79-8a1767143068"
      },
      "outputs": [
        {
          "output_type": "stream",
          "name": "stdout",
          "text": [
            "Requirement already satisfied: cryptography in /usr/local/lib/python3.11/dist-packages (43.0.3)\n",
            "Requirement already satisfied: cffi>=1.12 in /usr/local/lib/python3.11/dist-packages (from cryptography) (1.17.1)\n",
            "Requirement already satisfied: pycparser in /usr/local/lib/python3.11/dist-packages (from cffi>=1.12->cryptography) (2.22)\n",
            "Encrypted message b'gAAAAABnriBFK2ix_yEsdnWMe_27usrWZmungYFemeKyNjHB9vSB_Il8AoyUtxs2U05gVRNdod8ncmcmm2cylC68SoCB2yiXzA=='\n",
            "decrypted message b'Nancy Adelice'\n"
          ]
        }
      ],
      "source": [
        "!pip install cryptography\n",
        "\n",
        "# Encrypt my firstname assignment\n",
        "\n",
        "from cryptography.fernet import Fernet\n",
        "\n",
        "#Generate a key\n",
        "\n",
        "key=Fernet.generate_key()\n",
        "cipher_suite=Fernet(key)\n",
        "\n",
        "message = b\"Nancy Adelice\"\n",
        "\n",
        "# encrypt\n",
        "encrypted_message= cipher_suite.encrypt(message)\n",
        "print(\"Encrypted message\", encrypted_message)\n",
        "\n",
        "#decrypt\n",
        "\n",
        "decrypted_message= cipher_suite.decrypt(encrypted_message)\n",
        "print(\"decrypted message\", decrypted_message)\n",
        "\n"
      ]
    }
  ]
}